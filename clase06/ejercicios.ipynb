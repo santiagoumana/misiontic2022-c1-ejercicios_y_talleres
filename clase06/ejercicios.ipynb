{
 "cells": [
  {
   "cell_type": "markdown",
   "metadata": {},
   "source": [
    "biblioteca clase 6"
   ]
  },
  {
   "cell_type": "code",
   "execution_count": null,
   "metadata": {},
   "outputs": [],
   "source": [
    "def nota_definitiva_2(nota: float) -> str:\n",
    "    # validación de parametros\n",
    "    if not isinstance(nota, float) and not isinstance(nota, float):\n",
    "        return \"la nota debe ser con numero decimal\"\n",
    "\n",
    "    # not (nota >= 0.0 and nota <= 5.0)\n",
    "    if nota < 0.0 or nota > 5.0: # - (p and q) --> -p or\n",
    "        return \"la nota ingresada no es valida\"\n",
    "\n",
    "    # proceso\n",
    "    if nota >= 3.0:\n",
    "        mensaje = \"gano la materia. ¡felicitaciones!\"\n",
    "    else:\n",
    "        mensaje = \"perdio la materia\"\n",
    "\n",
    "    #salida\n",
    "    return f\"su nota es: {nota} {mensaje}\"\n",
    "    \n",
    "\n",
    "def factura_acueducto(estrato: int, consumo: float, tarifas: dict):\n",
    "    #validacion\n",
    "    if estrato < 1 or estrato > 6:\n",
    "        return \"El estrato debe estar entre 1 y 6\"\n",
    "    if consumo < 0:\n",
    "        return \"el consumo debe ser 0 o superior\"\n",
    "   \n",
    "   #proceso   \n",
    "    valor_factura = tarifas[estrato][\"cargo_fijo\"]\n",
    "    valor_factura += consumo * tarifas[estrato][\"metro_cubico\"]\n",
    "    valor_factura += tarifas[estrato][\"basuras\"]\n",
    "  \n",
    "   # salida\n",
    "    return valor_factura"
   ]
  },
  {
   "cell_type": "markdown",
   "metadata": {},
   "source": [
    "2 con bliblioteca"
   ]
  },
  {
   "cell_type": "code",
   "execution_count": null,
   "metadata": {},
   "outputs": [],
   "source": [
    "from ejercicios_clase6 import nota_definitiva_2\n",
    "\n",
    "# prueba del algoritmo\n",
    "#nota = float(input(\"ingrese la nota de 0.0 a 5.0: \"))\n",
    "nota = 5\n",
    "print(nota_definitiva_2(nota))"
   ]
  },
  {
   "cell_type": "markdown",
   "metadata": {},
   "source": [
    "10 con biblioteca"
   ]
  },
  {
   "cell_type": "code",
   "execution_count": null,
   "metadata": {},
   "outputs": [],
   "source": [
    "from ejercicios_clase6 import factura_acueducto\n",
    "\n",
    "#prueba\n",
    "tarifas = {\n",
    "        1: { \"cargo_fijo\": 2500, \"metro_cubico\": 2200, \"basuras\": 5500},                          \n",
    "        2: { \"cargo_fijo\": 2800, \"metro_cubico\": 2350, \"basuras\": 6200},                   \n",
    "        3: { \"cargo_fijo\": 3000, \"metro_cubico\": 2600, \"basuras\": 7400},                                    \n",
    "        4: { \"cargo_fijo\": 3300, \"metro_cubico\": 3400, \"basuras\": 8600},    \n",
    "        5: { \"cargo_fijo\": 3700, \"metro_cubico\": 3900, \"basuras\": 9700},\n",
    "        6: { \"cargo_fijo\": 4400, \"metro_cubico\": 4800, \"basuras\": 11000}\n",
    "}\n",
    "print(factura_acueducto(2, 23.0, tarifas))\n",
    "#print(2800 +  23.0 * 2350 + 6200)"
   ]
  },
  {
   "cell_type": "markdown",
   "metadata": {},
   "source": [
    "2"
   ]
  },
  {
   "cell_type": "code",
   "execution_count": 9,
   "metadata": {},
   "outputs": [
    {
     "name": "stdout",
     "output_type": "stream",
     "text": [
      "la nota debe ser con numero decimal\n"
     ]
    }
   ],
   "source": [
    "def nota_definitiva_2(nota: float) -> str:\n",
    "    # validación de parametros\n",
    "    if not isinstance(nota, float) and not isinstance(nota, float):\n",
    "        return \"la nota debe ser con numero decimal\"\n",
    "\n",
    "    # not (nota >= 0.0 and nota <= 5.0)\n",
    "    if nota < 0.0 or nota > 5.0: # - (p and q) --> -p or\n",
    "        return \"la nota ingresada no es valida\"\n",
    "\n",
    "    # proceso\n",
    "    if nota >= 3.0:\n",
    "        mensaje = \"gano la materia. ¡felicitaciones!\"\n",
    "    else:\n",
    "        mensaje = \"perdio la materia\"\n",
    "\n",
    "    #salida\n",
    "    return f\"su nota es: {nota} {mensaje}\"\n",
    "    \n",
    "    # prueba del algoritmo\n",
    "#nota = float(input(\"ingrese la nota de 0.0 a 5.0: \"))\n",
    "nota = 5\n",
    "print(nota_definitiva_2(nota))"
   ]
  },
  {
   "cell_type": "markdown",
   "metadata": {},
   "source": [
    "6"
   ]
  },
  {
   "cell_type": "code",
   "execution_count": 7,
   "metadata": {},
   "outputs": [
    {
     "name": "stdout",
     "output_type": "stream",
     "text": [
      "el numero 4.9 esta dentro del rango (3.5, 7.8]\n",
      "el numero 4.9 esta en el rango [9.3, 4.5)\n",
      "\n"
     ]
    }
   ],
   "source": [
    "numero = float(input(\"ingrese el numero: \"))\n",
    "\n",
    "def rango(numero: float):\n",
    "\n",
    "\n",
    "    mensaje = \"\"\n",
    "    error_dato = True\n",
    "    if numero > 3.5 and numero <= 7.8:\n",
    "        error_dato = False\n",
    "        mensaje += f\"el numero {numero} esta dentro del rango (3.5, 7.8]\\n\"\n",
    "\n",
    "    if numero > 4.5 and numero <= 9.3:\n",
    "        mensaje += f\"el numero {numero} esta en el rango [9.3, 4.5)\\n\"   \n",
    "        error_dato = False\n",
    "\n",
    "    if   numero >= 23.4 and numero < 45.3:\n",
    "        mensaje += f\"el numero {numero} esta en el rango [23.4, 45.3]\\n\"\n",
    "        error_dato = False    \n",
    "\n",
    "    if  error_dato:\n",
    "        mensaje += f\"el numero {numero} no esta en ningun rango\\n\"\n",
    "    \n",
    "    return mensaje\n",
    "\n",
    "print(rango(numero))"
   ]
  },
  {
   "cell_type": "markdown",
   "metadata": {},
   "source": [
    "7"
   ]
  },
  {
   "cell_type": "code",
   "execution_count": 8,
   "metadata": {},
   "outputs": [
    {
     "name": "stdout",
     "output_type": "stream",
     "text": [
      " IOS \n"
     ]
    }
   ],
   "source": [
    "menu = \"\"\"\"\n",
    "| Carácter | Mensaje a imprimir |\n",
    "|----------|--------------------|\n",
    "|   'a'    | Android            |\n",
    "|   'i'    | IOS                |\n",
    "|   otro   | Opcion inválida    |\n",
    "\n",
    "elige una opcion: \"\"\"\n",
    "\n",
    "opcion = input(menu)\n",
    "\n",
    "def seleccion_so (opcion):\n",
    "\n",
    "    if opcion == 'a' or opcion == 'A':\n",
    "        return ' Android '\n",
    "    elif opcion == 'i' or opcion == 'I':\n",
    "        return' IOS '\n",
    "    else:\n",
    "        return'opcion invalida'\n",
    "\n",
    "\n",
    "print(seleccion_so(opcion))   "
   ]
  },
  {
   "cell_type": "markdown",
   "metadata": {},
   "source": [
    "10"
   ]
  },
  {
   "cell_type": "code",
   "execution_count": 5,
   "metadata": {},
   "outputs": [
    {
     "name": "stdout",
     "output_type": "stream",
     "text": [
      "63050.0\n",
      "63050.0\n"
     ]
    }
   ],
   "source": [
    "def factura_acueducto(estrato: int, consumo: float):\n",
    "    #validacion\n",
    "    if estrato < 1 or estrato > 6:\n",
    "        return \"El estrato debe estar entre 1 y 6\"\n",
    "    if consumo < 0:\n",
    "        return \"el consumo debe ser 0 o superior\"\n",
    "   \n",
    "   #proceso\n",
    "    tarifas = {\n",
    "        1: { \"cargo_fijo\": 2500, \"metro_cubico\": 2200, \"basuras\": 5500},                          \n",
    "        2: { \"cargo_fijo\": 2800, \"metro_cubico\": 2350, \"basuras\": 6200},                   \n",
    "        3: { \"cargo_fijo\": 3000, \"metro_cubico\": 2600, \"basuras\": 7400},                                    \n",
    "        4: { \"cargo_fijo\": 3300, \"metro_cubico\": 3400, \"basuras\": 8600},    \n",
    "        5: { \"cargo_fijo\": 3700, \"metro_cubico\": 3900, \"basuras\": 9700},\n",
    "        6: { \"cargo_fijo\": 4400, \"metro_cubico\": 4800, \"basuras\": 11000}\n",
    "    }\n",
    "    valor_factura = tarifas[estrato][\"cargo_fijo\"]\n",
    "    valor_factura += consumo * tarifas[estrato][\"metro_cubico\"]\n",
    "    valor_factura += tarifas[estrato][\"basuras\"]\n",
    "  \n",
    "   # salida\n",
    "    return valor_factura\n",
    "\n",
    "#prueba\n",
    "print(factura_acueducto(2, 23.0))\n",
    "print(2800 +  23.0 * 2350 + 6200)"
   ]
  },
  {
   "cell_type": "markdown",
   "metadata": {},
   "source": [
    "10 adela"
   ]
  },
  {
   "cell_type": "code",
   "execution_count": 3,
   "metadata": {},
   "outputs": [
    {
     "name": "stdout",
     "output_type": "stream",
     "text": [
      "ingrese un estrato valido\n"
     ]
    }
   ],
   "source": [
    "def cargo_fijo(estrato: float):\n",
    "    if estrato == 1:\n",
    "        return 2500\n",
    "    if estrato == 2:\n",
    "        return 2800\n",
    "    if estrato == 3:\n",
    "        return 3000\n",
    "    if estrato == 4:\n",
    "        return 3300  \n",
    "    if estrato == 5:\n",
    "        return 3700   \n",
    "    if estrato == 6:\n",
    "        return 4400  \n",
    "\n",
    "def consumo_m3(estrato:float):\n",
    "    if estrato == 1:\n",
    "        return 2200\n",
    "    if estrato == 2:\n",
    "        return 2350\n",
    "    if estrato == 3:\n",
    "        return 2600\n",
    "    if estrato == 4:\n",
    "        return 3400  \n",
    "    if estrato == 5:\n",
    "        return 3900   \n",
    "    if estrato == 6:\n",
    "        return 4800 \n",
    "\n",
    "def basura_alcantarillado(estrato:float):\n",
    "    if estrato == 1:\n",
    "        return 5500\n",
    "    if estrato == 2:\n",
    "        return 6200\n",
    "    if estrato == 3:\n",
    "        return 7400\n",
    "    if estrato == 4:\n",
    "        return 8600\n",
    "    if estrato == 5:\n",
    "        return 9700 \n",
    "    if estrato == 6:\n",
    "        return 11000\n",
    "\n",
    "\n",
    "def cobro(estrato:int, consumo_de_agua_en_el_periodo: float):\n",
    "    if estrato >= 1 and estrato <= 6:\n",
    "        cobro_factura = cargo_fijo(estrato) + (consumo_de_agua_en_el_periodo * consumo_m3 (estrato)) + basura_alcantarillado(estrato)\n",
    "        return  cobro_factura \n",
    "    else: \n",
    "        return \"ingrese un estrato valido\"\n",
    "\n",
    "\n",
    "estrato = int(input(\"estrato\"))\n",
    "consumo_agua = float(input(\"consumo de agua\"))   \n",
    "print(cobro(estrato, consumo_agua))"
   ]
  }
 ],
 "metadata": {
  "interpreter": {
   "hash": "e6104bf604ca1a37923b4f279a3bc03307071c215727ed52dcf746e90ba65021"
  },
  "kernelspec": {
   "display_name": "Python 3.10.4 64-bit",
   "language": "python",
   "name": "python3"
  },
  "language_info": {
   "codemirror_mode": {
    "name": "ipython",
    "version": 3
   },
   "file_extension": ".py",
   "mimetype": "text/x-python",
   "name": "python",
   "nbconvert_exporter": "python",
   "pygments_lexer": "ipython3",
   "version": "3.10.4"
  },
  "orig_nbformat": 4
 },
 "nbformat": 4,
 "nbformat_minor": 2
}
